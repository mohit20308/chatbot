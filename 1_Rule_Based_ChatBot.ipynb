{
 "cells": [
  {
   "cell_type": "code",
   "execution_count": 145,
   "id": "79b50689",
   "metadata": {},
   "outputs": [],
   "source": [
    "from nltk.chat.util import reflections, Chat"
   ]
  },
  {
   "cell_type": "code",
   "execution_count": 148,
   "id": "aafdc50c",
   "metadata": {},
   "outputs": [],
   "source": [
    "question_answer_list =[\n",
    "    \n",
    "    [r'(\\bhi\\b|hey|hello)', ['Hey', 'Hello dear']],\n",
    "    ['(My name is(.*)|I am(.*))', ['Hello %1. I am Cairo - A Career Advisory Bot \\nI assist you in making decisions about your career. Would you prefer to pursue a \"job\" or continue with \"higher studies\" ?']],\n",
    "    ['(.*)Give me an advice', ['Would you prefer to pursue a \"job\" or continue with \"higher studies\" ?']],\n",
    "    \n",
    "    [r'\\bjob\\b', ['What type of job are you interested in: private sector or government ?']],\n",
    "        ['private(.*)', ['What type of company are you interested in: \"service based\" or \"product oriented\" ?']],\n",
    "            ['(service based|service)', ['Pick the subject you like the most from the following options: \"CN,\" \"DBMS,\" \"GD,\" \"ANDROID,\" or \"IS.\" where \\n   CN: Computer Networks\\n   DMBS: DataBase Management System\\n   GD: Game Development\\n   ANDROID: Android Application Devlopment\\n   IS: Information Security']],\n",
    "                ['CN', ['You should consider applying for Network Engineer positions at companies such as Tejas Networks, Cisco, Airtel, and others.']],\n",
    "                ['DBMS', ['You should consider applying for Database Adminstration jobs at companies such as companies Oracle, Wipro etc.']],\n",
    "                ['GD', ['You should consider applying for Game Developer role at companies such as Zapak Digital, Apar Games etc']],\n",
    "                ['ANDROID', ['You should consider applying for Android Developer jobs at companies such as Konstant Informatics, Openxcell etc.']],\n",
    "                ['IS', ['You should consider applying for Information Security Specialist at companies such as Quick-Heal, K7 etc']],\n",
    "            ['(product oriented|product)', ['If you possess strong coding skills and problem-solving abilities, You should consider applying for big companies such as Google, Amazon etc.\\nOtherwise Start practicing coding']],\n",
    "    \n",
    "        ['government', ['You should prepare for competitive exams such as GATE, ISRO, and Coal India etc.']],\n",
    "    \n",
    "    ['higher studies', ['There can be following options: \\n1. MS Degree (abroad)\\n2. M.Tech (India)\\n3. MBA \\n4. Phd\\\n",
    "                        \\nPress corresponding number to continue']],\n",
    "        ['1', ['You need to prepare for GRE (Graduate Record Examination) or GMAT (Graduate Management Admission Test)']],\n",
    "        ['2', ['You have two options: admission through the GATE exam or based on your B.Tech percentage.']],\n",
    "        ['3', ['Begin your preparation for the CAT exam.']],\n",
    "        ['4', ['You should identify your research area and apply for a direct PhD program.']],\n",
    "    [r'quit', ['Goodbye! If you have more questions in the future, feel free to ask.']]\n",
    "]\n",
    "\n"
   ]
  },
  {
   "cell_type": "code",
   "execution_count": 150,
   "id": "9a614c37",
   "metadata": {},
   "outputs": [
    {
     "name": "stdout",
     "output_type": "stream",
     "text": [
      "I am Cairo - A Career Advisory Bot \n",
      "I assist you in making decisions about your career.\n",
      "\n",
      "Would you prefer to pursue a \"job\" or continue with \"higher studies\" ?\n",
      ">hi\n",
      "Hello dear\n",
      ">quit\n",
      "Goodbye! If you have more questions in the future, feel free to ask.\n"
     ]
    }
   ],
   "source": [
    "print('I am Cairo - A Career Advisory Bot \\nI assist you in making decisions about your career.\\n')\n",
    "print('Would you prefer to pursue a \"job\" or continue with \"higher studies\" ?')\n",
    "chat_dialog = Chat(pairs = question_answer_list, reflections = reflections) \n",
    "chat_dialog.converse() "
   ]
  },
  {
   "cell_type": "code",
   "execution_count": null,
   "id": "0eb30dc4",
   "metadata": {},
   "outputs": [],
   "source": []
  },
  {
   "cell_type": "code",
   "execution_count": null,
   "id": "f0bc7d73",
   "metadata": {},
   "outputs": [],
   "source": []
  },
  {
   "cell_type": "code",
   "execution_count": null,
   "id": "1a766e92",
   "metadata": {},
   "outputs": [],
   "source": []
  },
  {
   "cell_type": "code",
   "execution_count": null,
   "id": "4505eab6",
   "metadata": {},
   "outputs": [],
   "source": []
  },
  {
   "cell_type": "code",
   "execution_count": null,
   "id": "71b4f1ff",
   "metadata": {},
   "outputs": [],
   "source": []
  }
 ],
 "metadata": {
  "kernelspec": {
   "display_name": "Python 3",
   "language": "python",
   "name": "python3"
  },
  "language_info": {
   "codemirror_mode": {
    "name": "ipython",
    "version": 3
   },
   "file_extension": ".py",
   "mimetype": "text/x-python",
   "name": "python",
   "nbconvert_exporter": "python",
   "pygments_lexer": "ipython3",
   "version": "3.7.4"
  }
 },
 "nbformat": 4,
 "nbformat_minor": 5
}
